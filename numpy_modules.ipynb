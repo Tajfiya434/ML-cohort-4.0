{
 "cells": [
  {
   "cell_type": "code",
   "execution_count": 1,
   "id": "6ab1d1aa",
   "metadata": {},
   "outputs": [
    {
     "name": "stdout",
     "output_type": "stream",
     "text": [
      "\n",
      "Transposed Matrix:\n",
      "[[1 4]\n",
      " [2 5]\n",
      " [3 6]]\n"
     ]
    }
   ],
   "source": [
    "\n",
    "import numpy as np\n",
    "\n",
    "matrix = np.array([\n",
    "    [1, 2, 3],\n",
    "    [4, 5, 6]\n",
    "])\n",
    "\n",
    "transpose = matrix.T\n",
    "print(\"\\nTransposed Matrix:\")\n",
    "print(transpose)\n",
    "\n"
   ]
  },
  {
   "cell_type": "code",
   "execution_count": 2,
   "id": "54620fac",
   "metadata": {},
   "outputs": [
    {
     "name": "stdout",
     "output_type": "stream",
     "text": [
      "\n",
      "Sum of A and B:\n",
      "[[ 8 11  7]\n",
      " [12  7  7]]\n"
     ]
    }
   ],
   "source": [
    "import numpy as np\n",
    "\n",
    "A = np.array([\n",
    "    [1, 2, 3],\n",
    "    [4, 5, 6]\n",
    "])\n",
    "\n",
    "B = np.array([\n",
    "    [7, 9, 4],\n",
    "    [8, 2, 1]\n",
    "])\n",
    "result = A + B\n",
    "print(\"\\nSum of A and B:\")\n",
    "print(result)\n"
   ]
  },
  {
   "cell_type": "code",
   "execution_count": 8,
   "id": "bac7bf52",
   "metadata": {},
   "outputs": [
    {
     "name": "stdout",
     "output_type": "stream",
     "text": [
      "[ 0  1  2  3  4  5  6  7  8  9 10 11 12 13 14 15 16 17]\n",
      "[20 21 22 23 24 25 26 27 28 29 30 31 32 33 34 35 36 37]\n",
      "\n",
      "Sum of a and b:\n",
      "[[20 22 24]\n",
      " [26 28 30]\n",
      " [32 34 36]\n",
      " [38 40 42]\n",
      " [44 46 48]\n",
      " [50 52 54]]\n"
     ]
    }
   ],
   "source": [
    "a = np.arange(0,18)\n",
    "print(a)\n",
    "a= a.reshape((6,3))\n",
    "a\n",
    "b= np.arange(20,38)\n",
    "print(b)\n",
    "b= b.reshape((6,3))\n",
    "b \n",
    "result = a + b\n",
    "print(\"\\nSum of a and b:\")\n",
    "print(result)"
   ]
  }
 ],
 "metadata": {
  "kernelspec": {
   "display_name": "Python 3 (ipykernel)",
   "language": "python",
   "name": "python3"
  },
  "language_info": {
   "codemirror_mode": {
    "name": "ipython",
    "version": 3
   },
   "file_extension": ".py",
   "mimetype": "text/x-python",
   "name": "python",
   "nbconvert_exporter": "python",
   "pygments_lexer": "ipython3",
   "version": "3.12.5"
  }
 },
 "nbformat": 4,
 "nbformat_minor": 5
}
